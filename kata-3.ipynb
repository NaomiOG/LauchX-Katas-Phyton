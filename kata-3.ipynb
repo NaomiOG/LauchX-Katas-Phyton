{
 "cells": [
  {
   "cell_type": "code",
   "execution_count": 4,
   "metadata": {},
   "outputs": [
    {
     "name": "stdout",
     "output_type": "stream",
     "text": [
      "¡Advertencia! Un asteroide se acerca a la Tierra demasiado rápido\n"
     ]
    }
   ],
   "source": [
    "velocidad_asteroide = 49\n",
    "\n",
    "if velocidad_asteroide > 25:\n",
    "    print('¡Advertencia! Un asteroide se acerca a la Tierra demasiado rápido')\n",
    "else:\n",
    "    print('No tienes nada de que preocuparte')"
   ]
  },
  {
   "cell_type": "code",
   "execution_count": 5,
   "metadata": {},
   "outputs": [
    {
     "name": "stdout",
     "output_type": "stream",
     "text": [
      "No hay nada que ver\n"
     ]
    }
   ],
   "source": [
    "velocidad_asteroide = 19\n",
    "\n",
    "if velocidad_asteroide > 20:\n",
    "    print('¡Alerta! Busca un asteroide en el cielo')\n",
    "elif velocidad_asteroide == 20:\n",
    "    print('¡Alerta! Busca un asteroide en el cielo')\n",
    "else:\n",
    "    print('No hay nada que ver')"
   ]
  },
  {
   "cell_type": "code",
   "execution_count": 7,
   "metadata": {},
   "outputs": [
    {
     "name": "stdout",
     "output_type": "stream",
     "text": [
      "¡Alerta! Busca un asteroide en el cielo\n"
     ]
    }
   ],
   "source": [
    "velocidad_asteroide = 25\n",
    "dimension_asteroide = 40\n",
    "if velocidad_asteroide > 25 and dimension_asteroide > 25:\n",
    "    print('¡Advertencia! Un asteroide se acerca a la Tierra demasiado rápido y es peligroso')\n",
    "elif velocidad_asteroide >= 20:\n",
    "    print('¡Alerta! Busca un asteroide en el cielo')\n",
    "elif dimension_asteroide < 25:\n",
    "    print('No hay nada que ver')\n",
    "else:\n",
    "    print('No hay nada que ver')\n"
   ]
  }
 ],
 "metadata": {
  "interpreter": {
   "hash": "1637a31dc50815886d60179d731a096a255f4a6588f9e4441cb8dde737b2b9fb"
  },
  "kernelspec": {
   "display_name": "Python 3.10.2 64-bit",
   "language": "python",
   "name": "python3"
  },
  "language_info": {
   "codemirror_mode": {
    "name": "ipython",
    "version": 3
   },
   "file_extension": ".py",
   "mimetype": "text/x-python",
   "name": "python",
   "nbconvert_exporter": "python",
   "pygments_lexer": "ipython3",
   "version": "3.10.2"
  },
  "orig_nbformat": 4
 },
 "nbformat": 4,
 "nbformat_minor": 2
}
