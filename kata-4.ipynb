{
 "cells": [
  {
   "cell_type": "code",
   "execution_count": 8,
   "metadata": {},
   "outputs": [
    {
     "name": "stdout",
     "output_type": "stream",
     "text": [
      "\n",
      "On average, the Moon moves 4cm away from the Earth every year\n",
      "The highest daylight temperature of the Moon is 127 C.\n",
      "\n",
      "On average, the Moon moves 4cm away from the Earth every year\n",
      "The highest daylight temperature of the Moon is 127 C.\n"
     ]
    }
   ],
   "source": [
    "text = \"\"\"Interesting facts about the Moon. The Moon is Earth's only satellite. There are several interesting facts about the Moon and how it affects life here on Earth. \n",
    "On average, the Moon moves 4cm away from the Earth every year. This yearly drift is not significant enough to cause immediate effects on Earth. The highest daylight temperature of the Moon is 127 C.\"\"\"\n",
    "\n",
    "#divide el texto en cada oración para trabajar con su contenido\n",
    "texto_dividido = text.split('. ')\n",
    "\n",
    "#Define las palabras pista: average, temperature y distance\n",
    "palabras_clave = ['average','temperature','distance']\n",
    "\n",
    "#Cre un bucle para imprimir solo datos sobre la Luna que estén relacionados con las palabras clave definidas anteriormente\n",
    "for oracion in texto_dividido:\n",
    "    for palabra in palabras_clave:\n",
    "        if palabra in oracion:\n",
    "            print(oracion)\n",
    "\n",
    "#actualiza el bucle(ciclo) para cambiar C a Celsius\n",
    "for oracion in texto_dividido:\n",
    "    for palabra in palabras_clave:\n",
    "        if palabra in oracion:\n",
    "            print(oracion.replace('Celsius', 'C'))"
   ]
  },
  {
   "cell_type": "code",
   "execution_count": 9,
   "metadata": {},
   "outputs": [
    {
     "name": "stdout",
     "output_type": "stream",
     "text": [
      "Datos De Gravedad Sobre Luna\n",
      "--------------------------------------------------------------------------------\n",
      "Nombre del planeta: Tierra\n",
      "Gravedad en Luna: 1.6199999999999999 m/s2\n",
      "Datos De Gravedad Sobre Luna\n",
      "--------------------------------------------------------------------------------\n",
      "Nombre del planeta: Tierra\n",
      "Gravedad en Luna: 1.6199999999999999 m/s2\n",
      "Datos De Gravedad Sobre Luna\n",
      "--------------------------------------------------------------------------------\n",
      "Nombre del planeta: Marte \n",
      "Gravedad en Ganímedes: 1.4300000000000002 m/s2\n"
     ]
    }
   ],
   "source": [
    "# Datos con los que vas a trabajar\n",
    "nombre   = \"Luna\"\n",
    "gravedad = 0.00162 # in kms\n",
    "planeta  = \"Tierra\"\n",
    "\n",
    "# Crear el título\n",
    "titulo = f'Datos de gravedad sobre {nombre}'.title()\n",
    "\n",
    "# Crear la plantilla\n",
    "hechos = f'{\"-\"*80}\\nNombre del planeta: {planeta}\\nGravedad en {nombre}: {gravedad * 1000} m/s2'\n",
    "\n",
    "# Unir cadenas\n",
    "plantilla  = f'{titulo}\\n{hechos}'\n",
    "\n",
    "print(plantilla)\n",
    "\n",
    "# Nuevos datos \n",
    "planeta   = 'Marte '\n",
    "gravedad  = 0.00143\n",
    "nombre    = 'Ganímedes'\n",
    "\n",
    "#Comprobar plantilla\n",
    "print(plantilla)\n",
    "\n",
    "#Nueva plantilla\n",
    "nueva_plantilla = '{titulo}\\n--------------------------------------------------------------------------------\\nNombre del planeta: {planeta}\\nGravedad en {nombre}: {gravedad} m/s2'\n",
    "print(nueva_plantilla.format(titulo=titulo,nombre=nombre, planeta=planeta, gravedad=gravedad*1000))"
   ]
  }
 ],
 "metadata": {
  "interpreter": {
   "hash": "1637a31dc50815886d60179d731a096a255f4a6588f9e4441cb8dde737b2b9fb"
  },
  "kernelspec": {
   "display_name": "Python 3.10.2 64-bit",
   "language": "python",
   "name": "python3"
  },
  "language_info": {
   "codemirror_mode": {
    "name": "ipython",
    "version": 3
   },
   "file_extension": ".py",
   "mimetype": "text/x-python",
   "name": "python",
   "nbconvert_exporter": "python",
   "pygments_lexer": "ipython3",
   "version": "3.10.2"
  },
  "orig_nbformat": 4
 },
 "nbformat": 4,
 "nbformat_minor": 2
}
