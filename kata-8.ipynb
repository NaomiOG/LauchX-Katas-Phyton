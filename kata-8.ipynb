{
 "cells": [
  {
   "cell_type": "code",
   "execution_count": 2,
   "metadata": {},
   "outputs": [
    {
     "name": "stdout",
     "output_type": "stream",
     "text": [
      "El nombre del planeta es: Mars\n",
      "Número de lunas: 2\n",
      "El nombre del planeta es: Mars\n",
      "Circunferencia lunar: 6752\n"
     ]
    }
   ],
   "source": [
    "planets = { \n",
    "    'name' : 'Mars',\n",
    "    'moons': 2\n",
    "}\n",
    "\n",
    "print(f\"\"\"El nombre del planeta es: {planets.get('name')}\n",
    "Número de lunas: {planets.get('moons')}\"\"\"\n",
    ")\n",
    "\n",
    "planets['circunferencia'] = {\n",
    "    'polar'     : 6752,\n",
    "    'equatorial': 6792\n",
    "}\n",
    "\n",
    "print(f\"\"\"El nombre del planeta es: {planets.get('name')}\n",
    "Circunferencia lunar: {planets['circunferencia'].get('polar')}\"\"\"\n",
    ")"
   ]
  },
  {
   "cell_type": "code",
   "execution_count": 7,
   "metadata": {},
   "outputs": [
    {
     "name": "stdout",
     "output_type": "stream",
     "text": [
      "17.833333333333332\n"
     ]
    }
   ],
   "source": [
    "# Planets and moons\n",
    "\n",
    "planet_moons = {\n",
    "    'mercury'   : 0,\n",
    "    'venus'     : 0,\n",
    "    'earth'     : 1,\n",
    "    'mars'      : 2,\n",
    "    'jupiter'   : 79,\n",
    "    'saturn'    : 82,\n",
    "    'uranus'    : 27,\n",
    "    'neptune'   : 14,\n",
    "    'pluto'     : 5,\n",
    "    'haumea'    : 2,\n",
    "    'makemake'  : 1,\n",
    "    'eris'      : 1\n",
    "}\n",
    "\n",
    "moons   = planet_moons.values()\n",
    "planets = len(planet_moons.keys())\n",
    "\n",
    "total_moons = 0\n",
    "\n",
    "for moon in moons:\n",
    "    total_moons += moon\n",
    "    \n",
    "average = total_moons/planets\n",
    "\n",
    "print(average)"
   ]
  }
 ],
 "metadata": {
  "interpreter": {
   "hash": "1637a31dc50815886d60179d731a096a255f4a6588f9e4441cb8dde737b2b9fb"
  },
  "kernelspec": {
   "display_name": "Python 3.10.2 64-bit",
   "language": "python",
   "name": "python3"
  },
  "language_info": {
   "codemirror_mode": {
    "name": "ipython",
    "version": 3
   },
   "file_extension": ".py",
   "mimetype": "text/x-python",
   "name": "python",
   "nbconvert_exporter": "python",
   "pygments_lexer": "ipython3",
   "version": "3.10.2"
  },
  "orig_nbformat": 4
 },
 "nbformat": 4,
 "nbformat_minor": 2
}
