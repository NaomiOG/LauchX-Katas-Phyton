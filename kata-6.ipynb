{
 "cells": [
  {
   "cell_type": "code",
   "execution_count": 5,
   "metadata": {},
   "outputs": [
    {
     "name": "stdout",
     "output_type": "stream",
     "text": [
      "Hay  8  planetas\n",
      "Último planeta: Plutón\n"
     ]
    }
   ],
   "source": [
    "# Lista de planetas\n",
    "planetas = ['Mercurio','Venus','Tierra','Marte','Júpiter','Saturno','Urano','Neptuno']\n",
    "print('Hay ',len(planetas),' planetas')\n",
    "\n",
    "# Agregar a plutón y mostrar el último elemento\n",
    "planetas.append('Plutón')\n",
    "print('Último planeta:',planetas[-1])"
   ]
  },
  {
   "cell_type": "code",
   "execution_count": 8,
   "metadata": {},
   "outputs": [
    {
     "name": "stdout",
     "output_type": "stream",
     "text": [
      "Planetas cercanos al sol:\n",
      " ['Mercurio', 'Venus', 'Tierra']\n",
      "Planetas lejanos al sol:\n",
      " ['Júpiter', 'Saturno', 'Urano', 'Neptuno', 'Plutón']\n"
     ]
    }
   ],
   "source": [
    "# Solicitar el nombre de un planeta\n",
    "nombre_planeta = input('Ingresa el nombre de un planeta comenzando con mayúscula')\n",
    "\n",
    "# Buscar el planeta en la lista\n",
    "indice_planeta = planetas.index(nombre_planeta)\n",
    "\n",
    "# Muestra los planetas más cercanos al sol\n",
    "planetas_cercanos = planetas[0:indice_planeta]\n",
    "print('Planetas cercanos al sol:\\n',planetas_cercanos)\n",
    "\n",
    "# Muestra los planetas más lejanos al sol\n",
    "planetas_lejanos = planetas[indice_planeta+1:]\n",
    "print('Planetas lejanos al sol:\\n',planetas_lejanos)"
   ]
  }
 ],
 "metadata": {
  "interpreter": {
   "hash": "1637a31dc50815886d60179d731a096a255f4a6588f9e4441cb8dde737b2b9fb"
  },
  "kernelspec": {
   "display_name": "Python 3.10.2 64-bit",
   "language": "python",
   "name": "python3"
  },
  "language_info": {
   "codemirror_mode": {
    "name": "ipython",
    "version": 3
   },
   "file_extension": ".py",
   "mimetype": "text/x-python",
   "name": "python",
   "nbconvert_exporter": "python",
   "pygments_lexer": "ipython3",
   "version": "3.10.2"
  },
  "orig_nbformat": 4
 },
 "nbformat": 4,
 "nbformat_minor": 2
}
