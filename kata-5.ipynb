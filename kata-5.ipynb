{
 "cells": [
  {
   "cell_type": "code",
   "execution_count": 1,
   "metadata": {},
   "outputs": [
    {
     "name": "stdout",
     "output_type": "stream",
     "text": [
      "Distancia en kilómetros: 628949330\n",
      "Distancia en millas: 390577533.93\n"
     ]
    }
   ],
   "source": [
    "#Crear variables para almacenar las dos distancias\n",
    "distancia_tierra  = 149597870\n",
    "distancia_jupiter = 778547200\n",
    "\n",
    "distancia_planetas = distancia_jupiter-distancia_tierra\n",
    "distancia_millas   = distancia_planetas * 0.621\n",
    "\n",
    "print(f'Distancia en kilómetros: {distancia_planetas}\\nDistancia en millas: {distancia_millas}')"
   ]
  },
  {
   "cell_type": "code",
   "execution_count": 2,
   "metadata": {},
   "outputs": [
    {
     "name": "stdout",
     "output_type": "stream",
     "text": [
      "Distancia en kilómetros: 628949330\n",
      "Distancia en millas: 390577533.93\n"
     ]
    }
   ],
   "source": [
    "# Almacenar las entradas del usuario\n",
    "distancia_1 = input('Ingrese la distancia del sol para el planeta 1 en kilómetros')\n",
    "distancia_2 = input('Ingrese la distancia del sol para el planeta 2 en kilómetros')\n",
    "\n",
    "# Convierte las cadenas de ambos planetas a números enteros\n",
    "distancia_1 = int(distancia_1)\n",
    "distancia_2 = int(distancia_2)\n",
    "\n",
    "# Realizar el cálculo y determinar el valor absoluto\n",
    "distancia_planetas = abs(distancia_1-distancia_2)\n",
    "\n",
    "# Convertir de KM a Millas\n",
    "distancia_millas   = distancia_planetas * 0.621\n",
    "\n",
    "print(f'Distancia en kilómetros: {distancia_planetas}\\nDistancia en millas: {distancia_millas}')"
   ]
  }
 ],
 "metadata": {
  "interpreter": {
   "hash": "1637a31dc50815886d60179d731a096a255f4a6588f9e4441cb8dde737b2b9fb"
  },
  "kernelspec": {
   "display_name": "Python 3.10.2 64-bit",
   "language": "python",
   "name": "python3"
  },
  "language_info": {
   "codemirror_mode": {
    "name": "ipython",
    "version": 3
   },
   "file_extension": ".py",
   "mimetype": "text/x-python",
   "name": "python",
   "nbconvert_exporter": "python",
   "pygments_lexer": "ipython3",
   "version": "3.10.2"
  },
  "orig_nbformat": 4
 },
 "nbformat": 4,
 "nbformat_minor": 2
}
