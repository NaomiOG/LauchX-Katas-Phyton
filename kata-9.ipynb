{
 "cells": [
  {
   "cell_type": "code",
   "execution_count": 2,
   "metadata": {},
   "outputs": [
    {
     "name": "stdout",
     "output_type": "stream",
     "text": [
      "Informe de combustible:\n",
      "    Tanque 1: 40\n",
      "    Tanque 2: 60\n",
      "    Tanque 3: 50\n",
      "    Promedio: 50.0\n",
      "Informe de combustible:\n",
      "    Tanque 1: 88\n",
      "    Tanque 2: 76\n",
      "    Tanque 3: 70\n",
      "    Promedio: 78.0\n"
     ]
    }
   ],
   "source": [
    "def informe_combustible(tanque_1,tanque_2,tanque_3):\n",
    "    total_combustible = tanque_1+tanque_2+tanque_3\n",
    "    promedio = total_combustible/3\n",
    "    return f\"\"\"Informe de combustible:\n",
    "    Tanque 1: {tanque_1}\n",
    "    Tanque 2: {tanque_2}\n",
    "    Tanque 3: {tanque_3}\n",
    "    Promedio: {promedio}\"\"\"\n",
    "\n",
    "print(informe_combustible(40,60,50))\n",
    "\n",
    "# Función promedio \n",
    "def calcular_promedio(valores):\n",
    "    total            = sum(valores)\n",
    "    numero_elementos = len(valores)\n",
    "    return total / numero_elementos\n",
    "\n",
    "def informe_combustible(tanque_1,tanque_2,tanque_3):\n",
    "    return f\"\"\"Informe de combustible:\n",
    "    Tanque 1: {tanque_1}\n",
    "    Tanque 2: {tanque_2}\n",
    "    Tanque 3: {tanque_3}\n",
    "    Promedio: {calcular_promedio([tanque_1,tanque_2,tanque_3])}\"\"\"\n",
    "\n",
    "print(informe_combustible(88, 76, 70))"
   ]
  },
  {
   "cell_type": "code",
   "execution_count": 2,
   "metadata": {},
   "outputs": [
    {
     "name": "stdout",
     "output_type": "stream",
     "text": [
      "Informe de la misión:\n",
      "    Tiempo del viaje: 65\n",
      "    Destino: Luna\n",
      "    Tanque total: 500000\n",
      "Informe de la misión:\n",
      "    Tiempo del viaje: 76\n",
      "    Destino: Luna\n",
      "    Tanque total: 500000\n",
      "Informe de la misión:\n",
      "    Tiempo del viaje: 76\n",
      "    Destino: Luna\n",
      "    Tanque total: 500000\n",
      "    Tanque interno: 300000 galones\n",
      "        Tanque externo: 200000 galones\n",
      "        \n"
     ]
    }
   ],
   "source": [
    "def informe_mision(hora_prelanzamiento,tiempo_vuelo,destino,tanque_externo,tanque_interno):\n",
    "    return f\"\"\"Informe de la misión:\n",
    "    Tiempo del viaje: {hora_prelanzamiento+tiempo_vuelo}\n",
    "    Destino: {destino}\n",
    "    Tanque total: {tanque_externo+tanque_interno}\"\"\"\n",
    "\n",
    "print(informe_mision(14, 51, \"Luna\", 200000, 300000))\n",
    "\n",
    "# Escribe tu nueva función de reporte considerando lo anterior\n",
    "\n",
    "def informe_mision(destino, *minutos, **combustible):\n",
    "    return f\"\"\"Informe de la misión:\n",
    "    Tiempo del viaje: {sum(minutos)}\n",
    "    Destino: {destino}\n",
    "    Tanque total: {sum(combustible.values())}\"\"\"\n",
    "\n",
    "print(informe_mision(\"Luna\", 10, 15, 51, interno=300000, externo=200000))\n",
    "\n",
    "def informe_mision(destino, *minutos, **combustible):\n",
    "    informe = f\"\"\"Informe de la misión:\n",
    "    Tiempo del viaje: {sum(minutos)}\n",
    "    Destino: {destino}\n",
    "    Tanque total: {sum(combustible.values())}\n",
    "    \"\"\"\n",
    "\n",
    "    for nombre_tanque, galones in combustible.items():\n",
    "        informe += f\"\"\"Tanque {nombre_tanque}: {galones} galones\n",
    "        \"\"\"\n",
    "    \n",
    "    return informe\n",
    "\n",
    "print(informe_mision(\"Luna\", 10, 15, 51, interno=300000, externo=200000))"
   ]
  }
 ],
 "metadata": {
  "interpreter": {
   "hash": "1637a31dc50815886d60179d731a096a255f4a6588f9e4441cb8dde737b2b9fb"
  },
  "kernelspec": {
   "display_name": "Python 3.10.2 64-bit",
   "language": "python",
   "name": "python3"
  },
  "language_info": {
   "codemirror_mode": {
    "name": "ipython",
    "version": 3
   },
   "file_extension": ".py",
   "mimetype": "text/x-python",
   "name": "python",
   "nbconvert_exporter": "python",
   "pygments_lexer": "ipython3",
   "version": "3.10.2"
  },
  "orig_nbformat": 4
 },
 "nbformat": 4,
 "nbformat_minor": 2
}
